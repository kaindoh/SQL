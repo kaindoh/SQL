{
  "nbformat": 4,
  "nbformat_minor": 0,
  "metadata": {
    "colab": {
      "name": "SQL Programming - Getting Started with Databases",
      "version": "0.3.2",
      "provenance": [],
      "collapsed_sections": [],
      "include_colab_link": true
    },
    "kernelspec": {
      "name": "python3",
      "display_name": "Python 3"
    }
  },
  "cells": [
    {
      "cell_type": "markdown",
      "metadata": {
        "id": "view-in-github",
        "colab_type": "text"
      },
      "source": [
        "<a href=\"https://colab.research.google.com/github/kaindoh/SQL/blob/master/SQL_Programming_Getting_Started_with_Databases.ipynb\" target=\"_parent\"><img src=\"https://colab.research.google.com/assets/colab-badge.svg\" alt=\"Open In Colab\"/></a>"
      ]
    },
    {
      "cell_type": "code",
      "metadata": {
        "id": "mIvaSryxUtDh",
        "colab_type": "code",
        "outputId": "5a09d542-9794-4142-bbd3-526e65f66bee",
        "colab": {
          "base_uri": "https://localhost:8080/",
          "height": 72
        }
      },
      "source": [
        "%load_ext sql\n",
        "%sql sqlite://"
      ],
      "execution_count": 13,
      "outputs": [
        {
          "output_type": "stream",
          "text": [
            "The sql extension is already loaded. To reload it, use:\n",
            "  %reload_ext sql\n"
          ],
          "name": "stdout"
        },
        {
          "output_type": "execute_result",
          "data": {
            "text/plain": [
              "'Connected: @None'"
            ]
          },
          "metadata": {
            "tags": []
          },
          "execution_count": 13
        }
      ]
    },
    {
      "cell_type": "code",
      "metadata": {
        "id": "c41cXYuxVHmV",
        "colab_type": "code",
        "outputId": "efd02979-4ec5-4a3d-8939-12ec2282ce80",
        "colab": {
          "base_uri": "https://localhost:8080/",
          "height": 95
        }
      },
      "source": [
        "%%sql\n",
        "CREATE TABLE if not exists PC(\n",
        "    code text,\n",
        "    model varchar(255),\n",
        "    speed varchar(255),\n",
        "    RAM varchar(255),\n",
        "    CD varchar(255),\n",
        "    price int\n",
        "    \n",
        ");\n",
        "SELECT * from PC;"
      ],
      "execution_count": 14,
      "outputs": [
        {
          "output_type": "stream",
          "text": [
            " * sqlite://\n",
            "Done.\n",
            "Done.\n"
          ],
          "name": "stdout"
        },
        {
          "output_type": "execute_result",
          "data": {
            "text/html": [
              "<table>\n",
              "    <tr>\n",
              "        <th>code</th>\n",
              "        <th>model</th>\n",
              "        <th>speed</th>\n",
              "        <th>RAM</th>\n",
              "        <th>CD</th>\n",
              "        <th>price</th>\n",
              "    </tr>\n",
              "</table>"
            ],
            "text/plain": [
              "[]"
            ]
          },
          "metadata": {
            "tags": []
          },
          "execution_count": 14
        }
      ]
    },
    {
      "cell_type": "code",
      "metadata": {
        "id": "Gy2esnFsa0sZ",
        "colab_type": "code",
        "colab": {}
      },
      "source": [
        ""
      ],
      "execution_count": 0,
      "outputs": []
    },
    {
      "cell_type": "markdown",
      "metadata": {
        "id": "O5K0FAT3W5a8",
        "colab_type": "text"
      },
      "source": [
        "# printer"
      ]
    },
    {
      "cell_type": "code",
      "metadata": {
        "id": "ihLbTd-3W961",
        "colab_type": "code",
        "outputId": "5c505718-017b-4191-cf99-7a042e254861",
        "colab": {
          "base_uri": "https://localhost:8080/",
          "height": 95
        }
      },
      "source": [
        "%%sql\n",
        "CREATE TABLE if not exists printer(\n",
        "    code varchar(255),\n",
        "    model varchar(255),\n",
        "    speed varchar(255),\n",
        "    type varchar(255), \n",
        "    price int\n",
        "    \n",
        ");\n",
        "SELECT * from printer;"
      ],
      "execution_count": 15,
      "outputs": [
        {
          "output_type": "stream",
          "text": [
            " * sqlite://\n",
            "Done.\n",
            "Done.\n"
          ],
          "name": "stdout"
        },
        {
          "output_type": "execute_result",
          "data": {
            "text/html": [
              "<table>\n",
              "    <tr>\n",
              "        <th>code</th>\n",
              "        <th>model</th>\n",
              "        <th>speed</th>\n",
              "        <th>type</th>\n",
              "        <th>price</th>\n",
              "    </tr>\n",
              "</table>"
            ],
            "text/plain": [
              "[]"
            ]
          },
          "metadata": {
            "tags": []
          },
          "execution_count": 15
        }
      ]
    },
    {
      "cell_type": "markdown",
      "metadata": {
        "id": "ssXSr00rXZ4P",
        "colab_type": "text"
      },
      "source": [
        "# movies"
      ]
    },
    {
      "cell_type": "code",
      "metadata": {
        "id": "GPWEMLkEXdXy",
        "colab_type": "code",
        "outputId": "a2cdabb9-303c-4b2a-c201-039d6a7a6c93",
        "colab": {
          "base_uri": "https://localhost:8080/",
          "height": 95
        }
      },
      "source": [
        "%%sql\n",
        "CREATE TABLE if not exists movies(\n",
        "    id int,\n",
        "    title varchar(255),\n",
        "    director varchar(255),\n",
        "    year year,\n",
        "    length_minutes time\n",
        "\n",
        ");\n",
        "SELECT * from movies;"
      ],
      "execution_count": 16,
      "outputs": [
        {
          "output_type": "stream",
          "text": [
            " * sqlite://\n",
            "Done.\n",
            "Done.\n"
          ],
          "name": "stdout"
        },
        {
          "output_type": "execute_result",
          "data": {
            "text/html": [
              "<table>\n",
              "    <tr>\n",
              "        <th>id</th>\n",
              "        <th>title</th>\n",
              "        <th>director</th>\n",
              "        <th>year</th>\n",
              "        <th>length_minutes</th>\n",
              "    </tr>\n",
              "</table>"
            ],
            "text/plain": [
              "[]"
            ]
          },
          "metadata": {
            "tags": []
          },
          "execution_count": 16
        }
      ]
    },
    {
      "cell_type": "code",
      "metadata": {
        "id": "0EtZIlJBbAQw",
        "colab_type": "code",
        "colab": {}
      },
      "source": [
        ""
      ],
      "execution_count": 0,
      "outputs": []
    },
    {
      "cell_type": "markdown",
      "metadata": {
        "id": "0RQv-chXbBe_",
        "colab_type": "text"
      },
      "source": [
        "# specifying column data types"
      ]
    },
    {
      "cell_type": "code",
      "metadata": {
        "id": "EIYKpDc4bLZy",
        "colab_type": "code",
        "outputId": "86704c4d-74ea-4f3b-fffd-65f9f1e1e253",
        "colab": {
          "base_uri": "https://localhost:8080/",
          "height": 95
        }
      },
      "source": [
        "%%sql\n",
        "CREATE TABLE if not exists customer(\n",
        "    custID int,\n",
        "    lastName char(25),\n",
        "    firstName char(20)\n",
        "    \n",
        "\n",
        ");\n",
        "SELECT * from customer;"
      ],
      "execution_count": 17,
      "outputs": [
        {
          "output_type": "stream",
          "text": [
            " * sqlite://\n",
            "Done.\n",
            "Done.\n"
          ],
          "name": "stdout"
        },
        {
          "output_type": "execute_result",
          "data": {
            "text/html": [
              "<table>\n",
              "    <tr>\n",
              "        <th>custID</th>\n",
              "        <th>lastName</th>\n",
              "        <th>firstName</th>\n",
              "    </tr>\n",
              "</table>"
            ],
            "text/plain": [
              "[]"
            ]
          },
          "metadata": {
            "tags": []
          },
          "execution_count": 17
        }
      ]
    },
    {
      "cell_type": "code",
      "metadata": {
        "id": "nA_yamKRcWxu",
        "colab_type": "code",
        "outputId": "634edee5-8c29-4d29-9141-68e22ebfef07",
        "colab": {
          "base_uri": "https://localhost:8080/",
          "height": 95
        }
      },
      "source": [
        "%%sql\n",
        "CREATE TABLE if not exists sales(\n",
        "    salesID integer,\n",
        "    customerID int,\n",
        "    name varchar(255),\n",
        "    address varchar(255)\n",
        "    \n",
        "\n",
        ");\n",
        "SELECT * from sales;"
      ],
      "execution_count": 18,
      "outputs": [
        {
          "output_type": "stream",
          "text": [
            " * sqlite://\n",
            "Done.\n",
            "Done.\n"
          ],
          "name": "stdout"
        },
        {
          "output_type": "execute_result",
          "data": {
            "text/html": [
              "<table>\n",
              "    <tr>\n",
              "        <th>salesID</th>\n",
              "        <th>customerID</th>\n",
              "        <th>name</th>\n",
              "        <th>address</th>\n",
              "    </tr>\n",
              "</table>"
            ],
            "text/plain": [
              "[]"
            ]
          },
          "metadata": {
            "tags": []
          },
          "execution_count": 18
        }
      ]
    },
    {
      "cell_type": "code",
      "metadata": {
        "id": "2qRKT6NafCs5",
        "colab_type": "code",
        "outputId": "561404e0-8ac3-4aae-d8e3-03d718f302a0",
        "colab": {
          "base_uri": "https://localhost:8080/",
          "height": 95
        }
      },
      "source": [
        "%%sql\n",
        "CREATE TABLE if not exists employees(\n",
        "    employee_no int,\n",
        "    employee_name varchar(255),\n",
        "    department varchar(255),\n",
        "    salary_infor float\n",
        ");\n",
        "SELECT * from employees;"
      ],
      "execution_count": 19,
      "outputs": [
        {
          "output_type": "stream",
          "text": [
            " * sqlite://\n",
            "Done.\n",
            "Done.\n"
          ],
          "name": "stdout"
        },
        {
          "output_type": "execute_result",
          "data": {
            "text/html": [
              "<table>\n",
              "    <tr>\n",
              "        <th>employee_no</th>\n",
              "        <th>employee_name</th>\n",
              "        <th>department</th>\n",
              "        <th>salary_infor</th>\n",
              "    </tr>\n",
              "</table>"
            ],
            "text/plain": [
              "[]"
            ]
          },
          "metadata": {
            "tags": []
          },
          "execution_count": 19
        }
      ]
    },
    {
      "cell_type": "markdown",
      "metadata": {
        "id": "4ewdzMSJl78E",
        "colab_type": "text"
      },
      "source": [
        "# specifying column default values"
      ]
    },
    {
      "cell_type": "code",
      "metadata": {
        "id": "xhIqPermb97r",
        "colab_type": "code",
        "outputId": "7fc10b5f-beb2-4b2c-a37a-ce900a23b2ac",
        "colab": {
          "base_uri": "https://localhost:8080/",
          "height": 95
        }
      },
      "source": [
        "%%sql\n",
        "CREATE TABLE if not exists latest_players(\n",
        "    player_Id int PRIMARY KEY,\n",
        "    player_name varchar(255),\n",
        "    age int DEFAULT 'unknown',\n",
        "    height REAL\n",
        "    \n",
        "\n",
        ");\n",
        "SELECT * from latest_players;"
      ],
      "execution_count": 20,
      "outputs": [
        {
          "output_type": "stream",
          "text": [
            " * sqlite://\n",
            "Done.\n",
            "Done.\n"
          ],
          "name": "stdout"
        },
        {
          "output_type": "execute_result",
          "data": {
            "text/html": [
              "<table>\n",
              "    <tr>\n",
              "        <th>player_Id</th>\n",
              "        <th>player_name</th>\n",
              "        <th>age</th>\n",
              "        <th>height</th>\n",
              "    </tr>\n",
              "</table>"
            ],
            "text/plain": [
              "[]"
            ]
          },
          "metadata": {
            "tags": []
          },
          "execution_count": 20
        }
      ]
    },
    {
      "cell_type": "code",
      "metadata": {
        "id": "z5015EuJm3wn",
        "colab_type": "code",
        "outputId": "43e4cca4-8a1b-4833-8ae3-f3bf4b2d7665",
        "colab": {
          "base_uri": "https://localhost:8080/",
          "height": 95
        }
      },
      "source": [
        "%%sql\n",
        "CREATE TABLE if not exists restuarant(\n",
        "    name varchar(255),\n",
        "    description text,\n",
        "    address varchar(255) DEFAULT 'unknown',\n",
        "    user_Id int PRIMARY KEY,\n",
        "    last_orders_at date\n",
        "\n",
        ");\n",
        "SELECT * from restuarant;"
      ],
      "execution_count": 21,
      "outputs": [
        {
          "output_type": "stream",
          "text": [
            " * sqlite://\n",
            "Done.\n",
            "Done.\n"
          ],
          "name": "stdout"
        },
        {
          "output_type": "execute_result",
          "data": {
            "text/html": [
              "<table>\n",
              "    <tr>\n",
              "        <th>name</th>\n",
              "        <th>description</th>\n",
              "        <th>address</th>\n",
              "        <th>user_Id</th>\n",
              "        <th>last_orders_at</th>\n",
              "    </tr>\n",
              "</table>"
            ],
            "text/plain": [
              "[]"
            ]
          },
          "metadata": {
            "tags": []
          },
          "execution_count": 21
        }
      ]
    },
    {
      "cell_type": "code",
      "metadata": {
        "id": "Jnm4OIq0og_D",
        "colab_type": "code",
        "colab": {}
      },
      "source": [
        ""
      ],
      "execution_count": 0,
      "outputs": []
    },
    {
      "cell_type": "markdown",
      "metadata": {
        "id": "9oRCKsw1ojTc",
        "colab_type": "text"
      },
      "source": [
        "#altering sql tables"
      ]
    },
    {
      "cell_type": "code",
      "metadata": {
        "id": "elzXrUUhonMK",
        "colab_type": "code",
        "outputId": "b7847727-0ae5-42c4-f932-e0829a92b282",
        "colab": {
          "base_uri": "https://localhost:8080/",
          "height": 95
        }
      },
      "source": [
        "%%sql\n",
        "CREATE TABLE if not exists teamMembers(\n",
        "    id int PRIMARY KEY,\n",
        "    name varchar(255),\n",
        "    age int DEFAULT 'unknown',\n",
        "    height REAL\n",
        "\n",
        ");\n",
        "SELECT * from teamMembers;"
      ],
      "execution_count": 22,
      "outputs": [
        {
          "output_type": "stream",
          "text": [
            " * sqlite://\n",
            "Done.\n",
            "Done.\n"
          ],
          "name": "stdout"
        },
        {
          "output_type": "execute_result",
          "data": {
            "text/html": [
              "<table>\n",
              "    <tr>\n",
              "        <th>id</th>\n",
              "        <th>name</th>\n",
              "        <th>age</th>\n",
              "        <th>height</th>\n",
              "    </tr>\n",
              "</table>"
            ],
            "text/plain": [
              "[]"
            ]
          },
          "metadata": {
            "tags": []
          },
          "execution_count": 22
        }
      ]
    },
    {
      "cell_type": "code",
      "metadata": {
        "id": "oJV3gLW1rjtl",
        "colab_type": "code",
        "outputId": "78ca4854-4902-4f05-f8d1-801433a55b15",
        "colab": {
          "base_uri": "https://localhost:8080/",
          "height": 95
        }
      },
      "source": [
        "%%sql\n",
        "ALTER TABLE teamMembers ADD DOB date;\n",
        "SELECT * from teamMembers;"
      ],
      "execution_count": 23,
      "outputs": [
        {
          "output_type": "stream",
          "text": [
            " * sqlite://\n",
            "Done.\n",
            "Done.\n"
          ],
          "name": "stdout"
        },
        {
          "output_type": "execute_result",
          "data": {
            "text/html": [
              "<table>\n",
              "    <tr>\n",
              "        <th>id</th>\n",
              "        <th>name</th>\n",
              "        <th>age</th>\n",
              "        <th>height</th>\n",
              "        <th>DOB</th>\n",
              "    </tr>\n",
              "</table>"
            ],
            "text/plain": [
              "[]"
            ]
          },
          "metadata": {
            "tags": []
          },
          "execution_count": 23
        }
      ]
    },
    {
      "cell_type": "code",
      "metadata": {
        "id": "LkzMVeUwsVea",
        "colab_type": "code",
        "outputId": "701b74e9-a266-4a3b-e42b-1974517cfaff",
        "colab": {
          "base_uri": "https://localhost:8080/",
          "height": 184
        }
      },
      "source": [
        "%%sql\n",
        "PRAGMA table_info(teamMembers);"
      ],
      "execution_count": 24,
      "outputs": [
        {
          "output_type": "stream",
          "text": [
            " * sqlite://\n",
            "Done.\n"
          ],
          "name": "stdout"
        },
        {
          "output_type": "execute_result",
          "data": {
            "text/html": [
              "<table>\n",
              "    <tr>\n",
              "        <th>cid</th>\n",
              "        <th>name</th>\n",
              "        <th>type</th>\n",
              "        <th>notnull</th>\n",
              "        <th>dflt_value</th>\n",
              "        <th>pk</th>\n",
              "    </tr>\n",
              "    <tr>\n",
              "        <td>0</td>\n",
              "        <td>id</td>\n",
              "        <td>int</td>\n",
              "        <td>0</td>\n",
              "        <td>None</td>\n",
              "        <td>1</td>\n",
              "    </tr>\n",
              "    <tr>\n",
              "        <td>1</td>\n",
              "        <td>name</td>\n",
              "        <td>varchar(255)</td>\n",
              "        <td>0</td>\n",
              "        <td>None</td>\n",
              "        <td>0</td>\n",
              "    </tr>\n",
              "    <tr>\n",
              "        <td>2</td>\n",
              "        <td>age</td>\n",
              "        <td>int</td>\n",
              "        <td>0</td>\n",
              "        <td>&#x27;unknown&#x27;</td>\n",
              "        <td>0</td>\n",
              "    </tr>\n",
              "    <tr>\n",
              "        <td>3</td>\n",
              "        <td>height</td>\n",
              "        <td>REAL</td>\n",
              "        <td>0</td>\n",
              "        <td>None</td>\n",
              "        <td>0</td>\n",
              "    </tr>\n",
              "    <tr>\n",
              "        <td>4</td>\n",
              "        <td>DOB</td>\n",
              "        <td>date</td>\n",
              "        <td>0</td>\n",
              "        <td>None</td>\n",
              "        <td>0</td>\n",
              "    </tr>\n",
              "</table>"
            ],
            "text/plain": [
              "[(0, 'id', 'int', 0, None, 1),\n",
              " (1, 'name', 'varchar(255)', 0, None, 0),\n",
              " (2, 'age', 'int', 0, \"'unknown'\", 0),\n",
              " (3, 'height', 'REAL', 0, None, 0),\n",
              " (4, 'DOB', 'date', 0, None, 0)]"
            ]
          },
          "metadata": {
            "tags": []
          },
          "execution_count": 24
        }
      ]
    },
    {
      "cell_type": "code",
      "metadata": {
        "id": "3XMO2GcLslvz",
        "colab_type": "code",
        "outputId": "c536a655-689b-4604-bb64-5d36559fe8c6",
        "colab": {
          "base_uri": "https://localhost:8080/",
          "height": 72
        }
      },
      "source": [
        "%%sql\n",
        "CREATE TABLE Artists(\n",
        "    artist_id int,\n",
        "    artist_name varchar(60),\n",
        "    place_of_birth varchar(60)\n",
        "    \n",
        "\n",
        ");"
      ],
      "execution_count": 25,
      "outputs": [
        {
          "output_type": "stream",
          "text": [
            " * sqlite://\n",
            "Done.\n"
          ],
          "name": "stdout"
        },
        {
          "output_type": "execute_result",
          "data": {
            "text/plain": [
              "[]"
            ]
          },
          "metadata": {
            "tags": []
          },
          "execution_count": 25
        }
      ]
    },
    {
      "cell_type": "code",
      "metadata": {
        "id": "yY7k9C3stKWv",
        "colab_type": "code",
        "outputId": "b027db0f-810b-4d36-9b64-027000275ba8",
        "colab": {
          "base_uri": "https://localhost:8080/",
          "height": 95
        }
      },
      "source": [
        "%%sql\n",
        "ALTER TABLE Artists ADD STUDIO text;\n",
        "SELECT * from Artists;"
      ],
      "execution_count": 26,
      "outputs": [
        {
          "output_type": "stream",
          "text": [
            " * sqlite://\n",
            "Done.\n",
            "Done.\n"
          ],
          "name": "stdout"
        },
        {
          "output_type": "execute_result",
          "data": {
            "text/html": [
              "<table>\n",
              "    <tr>\n",
              "        <th>artist_id</th>\n",
              "        <th>artist_name</th>\n",
              "        <th>place_of_birth</th>\n",
              "        <th>STUDIO</th>\n",
              "    </tr>\n",
              "</table>"
            ],
            "text/plain": [
              "[]"
            ]
          },
          "metadata": {
            "tags": []
          },
          "execution_count": 26
        }
      ]
    },
    {
      "cell_type": "code",
      "metadata": {
        "id": "ib4jOymYtyu4",
        "colab_type": "code",
        "outputId": "429c96e6-979b-4f59-f0e3-5f3ddfce5c05",
        "colab": {
          "base_uri": "https://localhost:8080/",
          "height": 72
        }
      },
      "source": [
        "%%sql\n",
        "ALTER TABLE Artists RENAME TO MusicArtist;\n"
      ],
      "execution_count": 33,
      "outputs": [
        {
          "output_type": "stream",
          "text": [
            " * sqlite://\n",
            "Done.\n"
          ],
          "name": "stdout"
        },
        {
          "output_type": "execute_result",
          "data": {
            "text/plain": [
              "[]"
            ]
          },
          "metadata": {
            "tags": []
          },
          "execution_count": 33
        }
      ]
    },
    {
      "cell_type": "code",
      "metadata": {
        "id": "LJ7p09XaucDZ",
        "colab_type": "code",
        "outputId": "73f359c3-86ba-4b6b-f2bb-135e8589a1d9",
        "colab": {
          "base_uri": "https://localhost:8080/",
          "height": 90
        }
      },
      "source": [
        "%%sql\n",
        "ALTER TABLE MusicArtist DROP COLUMN place_of_birth;\n",
        "SELECT * from MusicArtists;"
      ],
      "execution_count": 34,
      "outputs": [
        {
          "output_type": "stream",
          "text": [
            " * sqlite://\n",
            "(sqlite3.OperationalError) near \"DROP\": syntax error\n",
            "[SQL: ALTER TABLE MusicArtist DROP COLUMN place_of_birth;]\n",
            "(Background on this error at: http://sqlalche.me/e/e3q8)\n"
          ],
          "name": "stdout"
        }
      ]
    },
    {
      "cell_type": "markdown",
      "metadata": {
        "id": "B7dznr4cyCNi",
        "colab_type": "text"
      },
      "source": [
        "# dropping sql tables "
      ]
    },
    {
      "cell_type": "code",
      "metadata": {
        "id": "v4H7oPBqyM8L",
        "colab_type": "code",
        "outputId": "207a9f56-ac7c-4596-c326-220d8aa42cba",
        "colab": {
          "base_uri": "https://localhost:8080/",
          "height": 72
        }
      },
      "source": [
        "\n",
        "%sql DROP TABLE latest_players;\n"
      ],
      "execution_count": 29,
      "outputs": [
        {
          "output_type": "stream",
          "text": [
            " * sqlite://\n",
            "Done.\n"
          ],
          "name": "stdout"
        },
        {
          "output_type": "execute_result",
          "data": {
            "text/plain": [
              "[]"
            ]
          },
          "metadata": {
            "tags": []
          },
          "execution_count": 29
        }
      ]
    },
    {
      "cell_type": "code",
      "metadata": {
        "id": "pYKrobwl1i92",
        "colab_type": "code",
        "outputId": "bdc2e34e-5798-4efa-885e-0fe91b20720f",
        "colab": {
          "base_uri": "https://localhost:8080/",
          "height": 72
        }
      },
      "source": [
        "%%sql\n",
        "DELETE FROM movies;"
      ],
      "execution_count": 30,
      "outputs": [
        {
          "output_type": "stream",
          "text": [
            " * sqlite://\n",
            "0 rows affected.\n"
          ],
          "name": "stdout"
        },
        {
          "output_type": "execute_result",
          "data": {
            "text/plain": [
              "[]"
            ]
          },
          "metadata": {
            "tags": []
          },
          "execution_count": 30
        }
      ]
    },
    {
      "cell_type": "code",
      "metadata": {
        "id": "k4UuvAMX1Akd",
        "colab_type": "code",
        "outputId": "4f5380c6-34c8-43b8-89a4-98c6606141d5",
        "colab": {
          "base_uri": "https://localhost:8080/",
          "height": 72
        }
      },
      "source": [
        "%sql DROP TABLE Customer;"
      ],
      "execution_count": 31,
      "outputs": [
        {
          "output_type": "stream",
          "text": [
            " * sqlite://\n",
            "Done.\n"
          ],
          "name": "stdout"
        },
        {
          "output_type": "execute_result",
          "data": {
            "text/plain": [
              "[]"
            ]
          },
          "metadata": {
            "tags": []
          },
          "execution_count": 31
        }
      ]
    }
  ]
}